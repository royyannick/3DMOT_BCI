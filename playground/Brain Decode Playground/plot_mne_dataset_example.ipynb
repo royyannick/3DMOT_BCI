{
 "cells": [
  {
   "cell_type": "code",
   "execution_count": 1,
   "metadata": {},
   "outputs": [],
   "source": [
    "%matplotlib inline"
   ]
  },
  {
   "cell_type": "markdown",
   "metadata": {},
   "source": [
    "\n",
    "# MNE Dataset Example\n"
   ]
  },
  {
   "cell_type": "markdown",
   "metadata": {},
   "source": [
    "This example shows how to convert data from mne.Raws or mne.Epochs to a\n",
    "braindecode compatible data format.\n",
    "\n"
   ]
  },
  {
   "cell_type": "code",
   "execution_count": 2,
   "metadata": {},
   "outputs": [],
   "source": [
    "# Authors: Lukas Gemein <l.gemein@gmail.com>\n",
    "#\n",
    "# License: BSD (3-clause)\n",
    "\n",
    "import mne\n",
    "\n",
    "from braindecode.datasets import (\n",
    "    create_from_mne_raw, create_from_mne_epochs)"
   ]
  },
  {
   "cell_type": "markdown",
   "metadata": {},
   "source": [
    "First, fetch some data using mne:\n",
    "\n"
   ]
  },
  {
   "cell_type": "code",
   "execution_count": 3,
   "metadata": {},
   "outputs": [
    {
     "name": "stderr",
     "output_type": "stream",
     "text": [
      "Downloading file 'S022/S022R05.edf' from 'https://physionet.org/files/eegmmidb/1.0.0/S022/S022R05.edf' to 'D:\\mne_data\\MNE-eegbci-data\\files\\eegmmidb\\1.0.0'.\n",
      "Downloading file 'S022/S022R06.edf' from 'https://physionet.org/files/eegmmidb/1.0.0/S022/S022R06.edf' to 'D:\\mne_data\\MNE-eegbci-data\\files\\eegmmidb\\1.0.0'.\n",
      "Downloading file 'S022/S022R09.edf' from 'https://physionet.org/files/eegmmidb/1.0.0/S022/S022R09.edf' to 'D:\\mne_data\\MNE-eegbci-data\\files\\eegmmidb\\1.0.0'.\n",
      "Downloading file 'S022/S022R10.edf' from 'https://physionet.org/files/eegmmidb/1.0.0/S022/S022R10.edf' to 'D:\\mne_data\\MNE-eegbci-data\\files\\eegmmidb\\1.0.0'.\n",
      "Downloading file 'S022/S022R13.edf' from 'https://physionet.org/files/eegmmidb/1.0.0/S022/S022R13.edf' to 'D:\\mne_data\\MNE-eegbci-data\\files\\eegmmidb\\1.0.0'.\n",
      "Downloading file 'S022/S022R14.edf' from 'https://physionet.org/files/eegmmidb/1.0.0/S022/S022R14.edf' to 'D:\\mne_data\\MNE-eegbci-data\\files\\eegmmidb\\1.0.0'.\n"
     ]
    },
    {
     "name": "stdout",
     "output_type": "stream",
     "text": [
      "Extracting EDF parameters from D:\\mne_data\\MNE-eegbci-data\\files\\eegmmidb\\1.0.0\\S022\\S022R05.edf...\n",
      "EDF file detected\n",
      "Setting channel info structure...\n",
      "Creating raw.info structure...\n",
      "Reading 0 ... 19999  =      0.000 ...   124.994 secs...\n",
      "Extracting EDF parameters from D:\\mne_data\\MNE-eegbci-data\\files\\eegmmidb\\1.0.0\\S022\\S022R06.edf...\n",
      "EDF file detected\n",
      "Setting channel info structure...\n",
      "Creating raw.info structure...\n",
      "Reading 0 ... 19999  =      0.000 ...   124.994 secs...\n",
      "Extracting EDF parameters from D:\\mne_data\\MNE-eegbci-data\\files\\eegmmidb\\1.0.0\\S022\\S022R09.edf...\n",
      "EDF file detected\n",
      "Setting channel info structure...\n",
      "Creating raw.info structure...\n",
      "Reading 0 ... 19999  =      0.000 ...   124.994 secs...\n",
      "Extracting EDF parameters from D:\\mne_data\\MNE-eegbci-data\\files\\eegmmidb\\1.0.0\\S022\\S022R10.edf...\n",
      "EDF file detected\n",
      "Setting channel info structure...\n",
      "Creating raw.info structure...\n",
      "Reading 0 ... 19999  =      0.000 ...   124.994 secs...\n",
      "Extracting EDF parameters from D:\\mne_data\\MNE-eegbci-data\\files\\eegmmidb\\1.0.0\\S022\\S022R13.edf...\n",
      "EDF file detected\n",
      "Setting channel info structure...\n",
      "Creating raw.info structure...\n",
      "Reading 0 ... 19999  =      0.000 ...   124.994 secs...\n",
      "Extracting EDF parameters from D:\\mne_data\\MNE-eegbci-data\\files\\eegmmidb\\1.0.0\\S022\\S022R14.edf...\n",
      "EDF file detected\n",
      "Setting channel info structure...\n",
      "Creating raw.info structure...\n",
      "Reading 0 ... 19999  =      0.000 ...   124.994 secs...\n"
     ]
    }
   ],
   "source": [
    "# 5, 6, 7, 10, 13, 14 are codes for executed and imagined hands/feet\n",
    "subject_id = 22\n",
    "event_codes = [5, 6, 9, 10, 13, 14]\n",
    "# event_codes = [3, 4, 5, 6, 7, 8, 9, 10, 11, 12, 13, 14]\n",
    "\n",
    "# This will download the files if you don't have them yet,\n",
    "# and then return the paths to the files.\n",
    "physionet_paths = mne.datasets.eegbci.load_data(\n",
    "    subject_id, event_codes, update_path=False)\n",
    "\n",
    "# Load each of the files\n",
    "parts = [mne.io.read_raw_edf(path, preload=True, stim_channel='auto')\n",
    "         for path in physionet_paths]"
   ]
  },
  {
   "cell_type": "markdown",
   "metadata": {},
   "source": [
    "Convert Raw objects to a compatible data format:\n",
    "\n"
   ]
  },
  {
   "cell_type": "code",
   "execution_count": 4,
   "metadata": {},
   "outputs": [
    {
     "name": "stdout",
     "output_type": "stream",
     "text": [
      "Used Annotations descriptions: ['T0', 'T1', 'T2']\n",
      "Adding metadata with 4 columns\n",
      "60 matching events found\n",
      "No baseline correction applied\n",
      "0 projection items activated\n",
      "Using data from preloaded Raw for 60 events and 500 original time points ...\n",
      "0 bad epochs dropped\n",
      "Used Annotations descriptions: ['T0', 'T1', 'T2']\n",
      "Adding metadata with 4 columns\n",
      "60 matching events found\n",
      "No baseline correction applied\n",
      "0 projection items activated\n",
      "Using data from preloaded Raw for 60 events and 500 original time points ...\n",
      "0 bad epochs dropped\n",
      "Used Annotations descriptions: ['T0', 'T1', 'T2']\n",
      "Adding metadata with 4 columns\n",
      "60 matching events found\n",
      "No baseline correction applied\n",
      "0 projection items activated\n",
      "Using data from preloaded Raw for 60 events and 500 original time points ...\n",
      "0 bad epochs dropped\n",
      "Used Annotations descriptions: ['T0', 'T1', 'T2']\n",
      "Adding metadata with 4 columns\n",
      "60 matching events found\n",
      "No baseline correction applied\n",
      "0 projection items activated\n",
      "Using data from preloaded Raw for 60 events and 500 original time points ...\n",
      "0 bad epochs dropped\n",
      "Used Annotations descriptions: ['T0', 'T1', 'T2']\n",
      "Adding metadata with 4 columns\n",
      "60 matching events found\n",
      "No baseline correction applied\n",
      "0 projection items activated\n",
      "Using data from preloaded Raw for 60 events and 500 original time points ...\n",
      "0 bad epochs dropped\n",
      "Used Annotations descriptions: ['T0', 'T1', 'T2']\n",
      "Adding metadata with 4 columns\n",
      "60 matching events found\n",
      "No baseline correction applied\n",
      "0 projection items activated\n",
      "Using data from preloaded Raw for 60 events and 500 original time points ...\n",
      "0 bad epochs dropped\n"
     ]
    }
   ],
   "source": [
    "descriptions = [{\"event_code\": code, \"subject\": subject_id}\n",
    "                for code in event_codes]\n",
    "windows_dataset = create_from_mne_raw(\n",
    "    parts,\n",
    "    trial_start_offset_samples=0,\n",
    "    trial_stop_offset_samples=0,\n",
    "    window_size_samples=500,\n",
    "    window_stride_samples=500,\n",
    "    drop_last_window=False,\n",
    "    descriptions=descriptions,\n",
    ")"
   ]
  },
  {
   "cell_type": "markdown",
   "metadata": {},
   "source": [
    "If trials were already cut beforehand and are available as mne.Epochs:\n",
    "\n"
   ]
  },
  {
   "cell_type": "code",
   "execution_count": 5,
   "metadata": {},
   "outputs": [
    {
     "name": "stdout",
     "output_type": "stream",
     "text": [
      "Not setting metadata\n",
      "1 matching events found\n",
      "No baseline correction applied\n",
      "0 projection items activated\n",
      "Not setting metadata\n",
      "1 matching events found\n",
      "No baseline correction applied\n",
      "0 projection items activated\n",
      "Not setting metadata\n",
      "1 matching events found\n",
      "No baseline correction applied\n",
      "0 projection items activated\n",
      "Not setting metadata\n",
      "1 matching events found\n",
      "No baseline correction applied\n",
      "0 projection items activated\n",
      "Not setting metadata\n",
      "1 matching events found\n",
      "No baseline correction applied\n",
      "0 projection items activated\n",
      "Not setting metadata\n",
      "1 matching events found\n",
      "No baseline correction applied\n",
      "0 projection items activated\n",
      "Creating RawArray with float64 data, n_channels=64, n_times=81\n",
      "    Range : 0 ... 80 =      0.000 ...     0.500 secs\n",
      "Ready.\n",
      "Adding metadata with 4 columns\n",
      "2 matching events found\n",
      "No baseline correction applied\n",
      "0 projection items activated\n",
      "Using data from preloaded Raw for 2 events and 50 original time points ...\n",
      "0 bad epochs dropped\n",
      "Creating RawArray with float64 data, n_channels=64, n_times=81\n",
      "    Range : 0 ... 80 =      0.000 ...     0.500 secs\n",
      "Ready.\n",
      "Adding metadata with 4 columns\n",
      "2 matching events found\n",
      "No baseline correction applied\n",
      "0 projection items activated\n",
      "Using data from preloaded Raw for 2 events and 50 original time points ...\n",
      "0 bad epochs dropped\n",
      "Creating RawArray with float64 data, n_channels=64, n_times=81\n",
      "    Range : 0 ... 80 =      0.000 ...     0.500 secs\n",
      "Ready.\n",
      "Adding metadata with 4 columns\n",
      "2 matching events found\n",
      "No baseline correction applied\n",
      "0 projection items activated\n",
      "Using data from preloaded Raw for 2 events and 50 original time points ...\n",
      "0 bad epochs dropped\n",
      "Creating RawArray with float64 data, n_channels=64, n_times=81\n",
      "    Range : 0 ... 80 =      0.000 ...     0.500 secs\n",
      "Ready.\n",
      "Adding metadata with 4 columns\n",
      "2 matching events found\n",
      "No baseline correction applied\n",
      "0 projection items activated\n",
      "Using data from preloaded Raw for 2 events and 50 original time points ...\n",
      "0 bad epochs dropped\n",
      "Creating RawArray with float64 data, n_channels=64, n_times=81\n",
      "    Range : 0 ... 80 =      0.000 ...     0.500 secs\n",
      "Ready.\n",
      "Adding metadata with 4 columns\n",
      "2 matching events found\n",
      "No baseline correction applied\n",
      "0 projection items activated\n",
      "Using data from preloaded Raw for 2 events and 50 original time points ...\n",
      "0 bad epochs dropped\n",
      "Creating RawArray with float64 data, n_channels=64, n_times=81\n",
      "    Range : 0 ... 80 =      0.000 ...     0.500 secs\n",
      "Ready.\n",
      "Adding metadata with 4 columns\n",
      "2 matching events found\n",
      "No baseline correction applied\n",
      "0 projection items activated\n",
      "Using data from preloaded Raw for 2 events and 50 original time points ...\n",
      "0 bad epochs dropped\n"
     ]
    },
    {
     "data": {
      "text/html": [
       "<div>\n",
       "<style scoped>\n",
       "    .dataframe tbody tr th:only-of-type {\n",
       "        vertical-align: middle;\n",
       "    }\n",
       "\n",
       "    .dataframe tbody tr th {\n",
       "        vertical-align: top;\n",
       "    }\n",
       "\n",
       "    .dataframe thead th {\n",
       "        text-align: right;\n",
       "    }\n",
       "</style>\n",
       "<table border=\"1\" class=\"dataframe\">\n",
       "  <thead>\n",
       "    <tr style=\"text-align: right;\">\n",
       "      <th></th>\n",
       "      <th>0</th>\n",
       "    </tr>\n",
       "  </thead>\n",
       "  <tbody>\n",
       "    <tr>\n",
       "      <th>0</th>\n",
       "      <td>None</td>\n",
       "    </tr>\n",
       "    <tr>\n",
       "      <th>1</th>\n",
       "      <td>None</td>\n",
       "    </tr>\n",
       "    <tr>\n",
       "      <th>2</th>\n",
       "      <td>None</td>\n",
       "    </tr>\n",
       "    <tr>\n",
       "      <th>3</th>\n",
       "      <td>None</td>\n",
       "    </tr>\n",
       "    <tr>\n",
       "      <th>4</th>\n",
       "      <td>None</td>\n",
       "    </tr>\n",
       "    <tr>\n",
       "      <th>5</th>\n",
       "      <td>None</td>\n",
       "    </tr>\n",
       "  </tbody>\n",
       "</table>\n",
       "</div>"
      ],
      "text/plain": [
       "      0\n",
       "0  None\n",
       "1  None\n",
       "2  None\n",
       "3  None\n",
       "4  None\n",
       "5  None"
      ]
     },
     "execution_count": 5,
     "metadata": {},
     "output_type": "execute_result"
    }
   ],
   "source": [
    "list_of_epochs = [mne.Epochs(raw, [[0, 0, 0]], tmin=0, baseline=None)\n",
    "                  for raw in parts]\n",
    "windows_dataset = create_from_mne_epochs(\n",
    "    list_of_epochs,\n",
    "    window_size_samples=50,\n",
    "    window_stride_samples=50,\n",
    "    drop_last_window=False\n",
    ")\n",
    "\n",
    "windows_dataset.description"
   ]
  },
  {
   "cell_type": "code",
   "execution_count": 6,
   "metadata": {},
   "outputs": [
    {
     "name": "stdout",
     "output_type": "stream",
     "text": [
      "Not setting metadata\n",
      "1 matching events found\n",
      "No baseline correction applied\n",
      "0 projection items activated\n",
      "Not setting metadata\n",
      "1 matching events found\n",
      "No baseline correction applied\n",
      "0 projection items activated\n",
      "Not setting metadata\n",
      "1 matching events found\n",
      "No baseline correction applied\n",
      "0 projection items activated\n",
      "Not setting metadata\n",
      "1 matching events found\n",
      "No baseline correction applied\n",
      "0 projection items activated\n",
      "Not setting metadata\n",
      "1 matching events found\n",
      "No baseline correction applied\n",
      "0 projection items activated\n",
      "Not setting metadata\n",
      "1 matching events found\n",
      "No baseline correction applied\n",
      "0 projection items activated\n"
     ]
    }
   ],
   "source": [
    "list_of_epochs = [mne.Epochs(raw, [[0, 0, 0]], tmin=0, baseline=None)\n",
    "                  for raw in parts]"
   ]
  },
  {
   "cell_type": "code",
   "execution_count": 7,
   "metadata": {},
   "outputs": [
    {
     "data": {
      "text/plain": [
       "6"
      ]
     },
     "execution_count": 7,
     "metadata": {},
     "output_type": "execute_result"
    }
   ],
   "source": [
    "len(list_of_epochs)"
   ]
  },
  {
   "cell_type": "code",
   "execution_count": 9,
   "metadata": {},
   "outputs": [
    {
     "data": {
      "text/html": [
       "<table class=\"table table-hover table-striped table-sm table-responsive small\">\n",
       "    <tr>\n",
       "        <th>Number of events</th>\n",
       "        <td>1</td>\n",
       "    </tr>\n",
       "    <tr>\n",
       "        <th>Events</th>\n",
       "        \n",
       "        <td>0: 1</td>\n",
       "        \n",
       "    </tr>\n",
       "    <tr>\n",
       "        <th>Time range</th>\n",
       "        <td>0.000 – 0.500 sec</td>\n",
       "    </tr>\n",
       "    <tr>\n",
       "        <th>Baseline</th>\n",
       "        <td>off</td>\n",
       "    </tr>\n",
       "</table>"
      ],
      "text/plain": [
       "<Epochs |  1 events (good & bad), 0 - 0.5 sec, baseline off, ~65 kB, data not loaded,\n",
       " '0': 1>"
      ]
     },
     "execution_count": 9,
     "metadata": {},
     "output_type": "execute_result"
    }
   ],
   "source": [
    "list_of_epochs[1]"
   ]
  },
  {
   "cell_type": "code",
   "execution_count": null,
   "metadata": {},
   "outputs": [],
   "source": []
  }
 ],
 "metadata": {
  "kernelspec": {
   "display_name": "Python 3",
   "language": "python",
   "name": "python3"
  },
  "language_info": {
   "codemirror_mode": {
    "name": "ipython",
    "version": 3
   },
   "file_extension": ".py",
   "mimetype": "text/x-python",
   "name": "python",
   "nbconvert_exporter": "python",
   "pygments_lexer": "ipython3",
   "version": "3.7.1"
  }
 },
 "nbformat": 4,
 "nbformat_minor": 1
}
