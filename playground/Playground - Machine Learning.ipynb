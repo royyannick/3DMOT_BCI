{
 "cells": [
  {
   "cell_type": "code",
   "execution_count": null,
   "id": "cce69efd",
   "metadata": {},
   "outputs": [],
   "source": [
    "# https://pyriemann.readthedocs.io/en/latest/\n",
    "# https://neurotechx.github.io/moabb/auto_examples/advanced_examples/plot_statistical_analysis.html#sphx-glr-auto-examples-advanced-examples-plot-statistical-analysis-py\n",
    "\n",
    "# https://mne.tools/stable/auto_examples/decoding/decoding_csp_timefreq.html?highlight=time_frequency\n",
    "\n",
    "# https://mne.tools/stable/auto_tutorials/machine-learning/50_decoding.html#sphx-glr-auto-tutorials-machine-learning-50-decoding-py\n",
    "\n",
    "# https://mne.tools/stable/auto_tutorials/time-freq/50_ssvep.html#sphx-glr-auto-tutorials-time-freq-50-ssvep-py"
   ]
  }
 ],
 "metadata": {
  "kernelspec": {
   "display_name": "Python 3",
   "language": "python",
   "name": "python3"
  },
  "language_info": {
   "codemirror_mode": {
    "name": "ipython",
    "version": 3
   },
   "file_extension": ".py",
   "mimetype": "text/x-python",
   "name": "python",
   "nbconvert_exporter": "python",
   "pygments_lexer": "ipython3",
   "version": "3.8.10"
  }
 },
 "nbformat": 4,
 "nbformat_minor": 5
}
